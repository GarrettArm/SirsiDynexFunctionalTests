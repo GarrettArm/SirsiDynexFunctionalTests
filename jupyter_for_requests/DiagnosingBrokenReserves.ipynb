{
 "cells": [
  {
   "cell_type": "code",
   "execution_count": null,
   "metadata": {},
   "outputs": [],
   "source": [
    "import requests\n",
    "import pprint\n",
    "import json\n",
    "\n",
    "pp = pprint.PrettyPrinter(indent=4)"
   ]
  },
  {
   "cell_type": "code",
   "execution_count": null,
   "metadata": {},
   "outputs": [],
   "source": [
    "data = {\n",
    "#     'qu': 'asdf',\n",
    "#     'qf': 'FORMAT\tFormat\tBOOK\tBooks',\n",
    "#     'rt': 'false|||AUTHOR|||Author',\n",
    "#     'qf': 'LIBRARY\tLibrary\t21:MIDL-MAIN\tMiddleton Library (Main Collection)'\n",
    "#     'libraryDropDown': '21:MIDL-MAIN',\n",
    "'qu': '',\n",
    "'rw': '1',\n",
    "'ri': '75',\n",
    "'te': '1834580593',\n",
    "'rt': 'false|||USER_NAME|||Instructor Name',\n",
    "}"
   ]
  },
  {
   "cell_type": "code",
   "execution_count": null,
   "metadata": {},
   "outputs": [],
   "source": [
    "response = requests.post(\"https://lsu.ent.sirsi.net/client/en_US/lsu/search/results/list/19451::62721028368351701\",\n",
    "#                        headers=request_headers,\n",
    "                         data=data\n",
    "                         )\n",
    "print(response.status_code)"
   ]
  },
  {
   "cell_type": "code",
   "execution_count": null,
   "metadata": {},
   "outputs": [],
   "source": [
    "with open('reserves_output.html', 'w') as f:\n",
    "    f.write(response.content.decode('utf-8'))"
   ]
  },
  {
   "cell_type": "code",
   "execution_count": null,
   "metadata": {},
   "outputs": [],
   "source": []
  },
  {
   "cell_type": "code",
   "execution_count": null,
   "metadata": {},
   "outputs": [],
   "source": [
    "working_post_url = \"https://lsu.ent.sirsi.net/client/en_US/lsu/search/results.federatedpanel_0:federateddetailclick/1834580593x0/19451::62721028368351701/SOCIAL$0020WK$00207501/31518096083088/86?qu=&rw=1&ri=86&te=1834580593&rt=false%7C%7C%7CUSER_NAME%7C%7C%7CInstructor+Name\""
   ]
  },
  {
   "cell_type": "code",
   "execution_count": null,
   "metadata": {},
   "outputs": [],
   "source": [
    "response = requests.post(working_post_url)"
   ]
  },
  {
   "cell_type": "code",
   "execution_count": null,
   "metadata": {},
   "outputs": [],
   "source": [
    "response.text"
   ]
  },
  {
   "cell_type": "code",
   "execution_count": null,
   "metadata": {},
   "outputs": [],
   "source": []
  },
  {
   "cell_type": "code",
   "execution_count": null,
   "metadata": {},
   "outputs": [],
   "source": []
  },
  {
   "cell_type": "code",
   "execution_count": null,
   "metadata": {},
   "outputs": [],
   "source": [
    "sirsi_made_url = 'https://lsu.ent.sirsi.net/client/en_US/lsu/search/results.federatedpanel_0:federateddetailclick/1834580593x0/19451::62721028368351701/SOCIAL$0020WK$00207501/31518096083088/75?qu=&rw=1&ri=75&te=1834580593&rt=false%7C%7C%7CUSER_NAME%7C%7C%7CInstructor+Name'"
   ]
  },
  {
   "cell_type": "code",
   "execution_count": null,
   "metadata": {},
   "outputs": [],
   "source": [
    "from urllib.parse import unquote, urlparse, parse_qs\n",
    "\n",
    "def unquote_it_all(url):\n",
    "    while unquote(url) != url:\n",
    "        url = unquote(url)\n",
    "    url = url.replace('$0020', ' ')\n",
    "    return url"
   ]
  },
  {
   "cell_type": "code",
   "execution_count": null,
   "metadata": {},
   "outputs": [],
   "source": [
    "unquote_it_all(sirsi_made_url)"
   ]
  },
  {
   "cell_type": "code",
   "execution_count": null,
   "metadata": {},
   "outputs": [],
   "source": [
    "def convert_to_sirsi_made(a, b, c, d):\n",
    "    newly_made = 'https://lsu.ent.sirsi.net{}'.format(a)\n",
    "    return newly_made"
   ]
  },
  {
   "cell_type": "code",
   "execution_count": null,
   "metadata": {},
   "outputs": [],
   "source": [
    "newly_made = convert_to_sirsi_made('/client/en_US/lsu/search/results.federatedpanel_0:federateddetailclick/1834580593x0/19451::62721028368351701/SOCIAL$0020WK$00207501/31518096083088/71?qu=&rw=1&ri=71&te=1834580593&rt=false%7C%7C%7CUSER_NAME%7C%7C%7CInstructor+Name', '1834580593', 0, 0)"
   ]
  },
  {
   "cell_type": "code",
   "execution_count": null,
   "metadata": {},
   "outputs": [],
   "source": [
    "print(unquote_it_all(sirsi_made_url))\n",
    "print(unquote_it_all(newly_made))"
   ]
  },
  {
   "cell_type": "code",
   "execution_count": null,
   "metadata": {},
   "outputs": [],
   "source": [
    "parsed_newly_made = urlparse(unquote_it_all(newly_made))\n",
    "print(parsed_newly_made.path)\n",
    "print(parse_qs(parsed_newly_made.query))"
   ]
  },
  {
   "cell_type": "code",
   "execution_count": null,
   "metadata": {},
   "outputs": [],
   "source": []
  },
  {
   "cell_type": "code",
   "execution_count": null,
   "metadata": {},
   "outputs": [],
   "source": []
  },
  {
   "cell_type": "code",
   "execution_count": null,
   "metadata": {},
   "outputs": [],
   "source": [
    "good_input = '/client/en_US/lsu/search/results.federatedpanel_0:federateddetailclick/1834580593x0/19451::62721028368351701/SOCIAL$0020WK$00207501/31518096083088'\n",
    "bad_input = '/client/en_US/lsu/search/results.federatedpanel_0:federateddetailclick/1834580593x0/211638::62721065120892720/SOCIOLOGY$00204461/31518087851873'\n",
    "            "
   ]
  },
  {
   "cell_type": "code",
   "execution_count": null,
   "metadata": {},
   "outputs": [],
   "source": [
    "for a, b in zip(good_input.split('/'), bad_input.split('/')):\n",
    "    if a != b:\n",
    "        print(unquote_it_all(a), '\\t\\t', unquote_it_all(b))"
   ]
  },
  {
   "cell_type": "code",
   "execution_count": null,
   "metadata": {},
   "outputs": [],
   "source": []
  },
  {
   "cell_type": "code",
   "execution_count": null,
   "metadata": {},
   "outputs": [],
   "source": []
  }
 ],
 "metadata": {
  "kernelspec": {
   "display_name": "Python 3",
   "language": "python",
   "name": "python3"
  },
  "language_info": {
   "codemirror_mode": {
    "name": "ipython",
    "version": 3
   },
   "file_extension": ".py",
   "mimetype": "text/x-python",
   "name": "python",
   "nbconvert_exporter": "python",
   "pygments_lexer": "ipython3",
   "version": "3.6.6"
  }
 },
 "nbformat": 4,
 "nbformat_minor": 2
}
