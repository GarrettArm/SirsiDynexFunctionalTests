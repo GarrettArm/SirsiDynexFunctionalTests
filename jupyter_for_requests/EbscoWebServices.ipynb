{
 "cells": [
  {
   "cell_type": "code",
   "execution_count": null,
   "metadata": {},
   "outputs": [],
   "source": [
    "import requests\n",
    "import json\n",
    "import getpass"
   ]
  },
  {
   "cell_type": "code",
   "execution_count": null,
   "metadata": {},
   "outputs": [],
   "source": [
    "s = requests.session()"
   ]
  },
  {
   "cell_type": "markdown",
   "metadata": {},
   "source": [
    "## UIDAuth does not work easily, but ipauth does within lsu range"
   ]
  },
  {
   "cell_type": "code",
   "execution_count": null,
   "metadata": {},
   "outputs": [],
   "source": [
    "login_url = 'https://eds-api.ebscohost.com/authservice/rest/UIDAuth'\n",
    "\n",
    "admin_login_data = {\n",
    "    'UserId': input('what is your Ebsco username? '),\n",
    "    'Password': getpass.getpass('what is your Ebsco password? '),\n",
    "    'Profile': 'edsapi',\n",
    "    'InterfaceId': 'edsapi_console',\n",
    "}\n",
    "\n",
    "r = s.post(\n",
    "        session_url,\n",
    "        headers={\n",
    "            'Content-Type': 'application/json',\n",
    "            'Accept': 'application/json',\n",
    "            'User-Agent': 'Mozilla/5.0 (X11; Linux x86_64) AppleWebKit/537.36 (KHTML, like Gecko) Chrome/69.0.3497.100 Safari/537.36',\n",
    "#             'x-authenticationToken': auth_json['AuthToken'],\n",
    "        },\n",
    "        data = admin_login_data,\n",
    "    )\n",
    "print(r.request.headers)\n",
    "print(r.request.body)\n",
    "print(r.text)"
   ]
  },
  {
   "cell_type": "code",
   "execution_count": null,
   "metadata": {},
   "outputs": [],
   "source": [
    "# login_url = 'https://eds-api.ebscohost.com/authservice/rest/UIDAuth'\n",
    "\n",
    "# with open('credentials.txt', 'r') as f:\n",
    "#     parsed_json = json.loads(f.read())\n",
    "#     username, password = parsed_json.get('EBSCO').get('user'), parsed_json.get('EBSCO').get('pass')\n",
    "#     if username and password:\n",
    "#         admin_login_data = {\n",
    "#             'UserId': username,\n",
    "#             'Password': password,\n",
    "#             'Profile': None,\n",
    "#             'Org': None,\n",
    "#             'InterfaceId': 'wsapi',\n",
    "#             'Options': 'autocomplete',        \n",
    "#         }\n",
    "#     else:\n",
    "#         admin_login_data = {\n",
    "#             'UserId': input('what is your Ebsco username? '),\n",
    "#             'Password': getpass.getpass('what is your Ebsco password? '),\n",
    "#             'Profile': 'eds',\n",
    "#             'InterfaceId': 'wsapi',\n",
    "#         } \n",
    "\n",
    "# admin_login_data.update({\n",
    "#     'Org': 'edsapi',\n",
    "#     'Profile': 'edsapi',\n",
    "#     'InterfaceId': 'EDSAPI',\n",
    "#     'Option': 'autocomplete',\n",
    "#     })"
   ]
  },
  {
   "cell_type": "code",
   "execution_count": null,
   "metadata": {},
   "outputs": [],
   "source": [
    "# authenticate\n",
    "login_url = 'https://eds-api.ebscohost.com/authservice/rest/ipauth'\n",
    "\n",
    "r = s.post(\n",
    "        login_url,\n",
    "        headers={\n",
    "            'Accept': 'application/json',\n",
    "    }\n",
    ")\n",
    "auth_json = json.loads(r.content)\n",
    "print(auth_json)"
   ]
  },
  {
   "cell_type": "code",
   "execution_count": null,
   "metadata": {},
   "outputs": [],
   "source": [
    "# open session\n",
    "session_url = 'https://eds-api.ebscohost.com/edsapi/rest/createsession'\n",
    "\n",
    "payload = {\n",
    "    \"Profile\": \"edsapi\",\n",
    "    \"Guest\": \"y\",\n",
    "    \"Org\": \"edsapi\",\n",
    "    'x-authenticationToken': auth_json['AuthToken'],\n",
    "}\n",
    "\n",
    "r = s.post(\n",
    "        session_url,\n",
    "        headers={\n",
    "#             'Content-Type': 'application/json',\n",
    "#             'Accept': 'application/json',\n",
    "            'x-authenticationToken': auth_json['AuthToken'],\n",
    "        },\n",
    "        data = payload,\n",
    "    )\n",
    "\n",
    "print(r.text)\n"
   ]
  },
  {
   "cell_type": "code",
   "execution_count": null,
   "metadata": {},
   "outputs": [],
   "source": []
  },
  {
   "cell_type": "code",
   "execution_count": null,
   "metadata": {},
   "outputs": [],
   "source": []
  },
  {
   "cell_type": "code",
   "execution_count": null,
   "metadata": {},
   "outputs": [],
   "source": []
  }
 ],
 "metadata": {
  "kernelspec": {
   "display_name": "Python 3",
   "language": "python",
   "name": "python3"
  },
  "language_info": {
   "codemirror_mode": {
    "name": "ipython",
    "version": 3
   },
   "file_extension": ".py",
   "mimetype": "text/x-python",
   "name": "python",
   "nbconvert_exporter": "python",
   "pygments_lexer": "ipython3",
   "version": "3.6.7"
  }
 },
 "nbformat": 4,
 "nbformat_minor": 2
}
