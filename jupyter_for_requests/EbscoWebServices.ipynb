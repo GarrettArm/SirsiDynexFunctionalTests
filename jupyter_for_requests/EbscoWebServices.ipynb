{
 "cells": [
  {
   "cell_type": "code",
   "execution_count": 1,
   "metadata": {},
   "outputs": [],
   "source": [
    "import requests\n",
    "import json\n",
    "import getpass"
   ]
  },
  {
   "cell_type": "code",
   "execution_count": 4,
   "metadata": {},
   "outputs": [],
   "source": [
    "s = requests.session()"
   ]
  },
  {
   "cell_type": "markdown",
   "metadata": {},
   "source": [
    "## UIDAuth does not work easily, but ipauth does within lsu range"
   ]
  },
  {
   "cell_type": "code",
   "execution_count": 81,
   "metadata": {},
   "outputs": [
    {
     "name": "stdout",
     "output_type": "stream",
     "text": [
      "what is your Ebsco username? lsu\n",
      "what is your Ebsco password? ········\n",
      "{'User-Agent': 'Mozilla/5.0 (X11; Linux x86_64) AppleWebKit/537.36 (KHTML, like Gecko) Chrome/69.0.3497.100 Safari/537.36', 'Accept-Encoding': 'gzip, deflate', 'Accept': 'application/json', 'Connection': 'keep-alive', 'Content-Type': 'application/json', 'Content-Length': '67'}\n",
      "UserId=lsu&Password=tiger&Profile=edsapi&InterfaceId=edsapi_console\n",
      "ï»¿<?xml version=\"1.0\" encoding=\"utf-8\"?>\n",
      "<!DOCTYPE html PUBLIC \"-//W3C//DTD XHTML 1.0 Transitional//EN\" \"http://www.w3.org/TR/xhtml1/DTD/xhtml1-transitional.dtd\">\n",
      "<html xmlns=\"http://www.w3.org/1999/xhtml\">\n",
      "  <head>\n",
      "    <title>Request Error</title>\n",
      "    <style>BODY { color: #000000; background-color: white; font-family: Verdana; margin-left: 0px; margin-top: 0px; } #content { margin-left: 30px; font-size: .70em; padding-bottom: 2em; } A:link { color: #336699; font-weight: bold; text-decoration: underline; } A:visited { color: #6699cc; font-weight: bold; text-decoration: underline; } A:active { color: #336699; font-weight: bold; text-decoration: underline; } .heading1 { background-color: #003366; border-bottom: #336699 6px solid; color: #ffffff; font-family: Tahoma; font-size: 26px; font-weight: normal;margin: 0em 0em 10px -20px; padding-bottom: 8px; padding-left: 30px;padding-top: 16px;} pre { font-size:small; background-color: #e5e5cc; padding: 5px; font-family: Courier New; margin-top: 0px; border: 1px #f0f0e0 solid; white-space: pre-wrap; white-space: -pre-wrap; word-wrap: break-word; } table { border-collapse: collapse; border-spacing: 0px; font-family: Verdana;} table th { border-right: 2px white solid; border-bottom: 2px white solid; font-weight: bold; background-color: #cecf9c;} table td { border-right: 2px white solid; border-bottom: 2px white solid; background-color: #e5e5cc;}</style>\n",
      "  </head>\n",
      "  <body>\n",
      "    <div id=\"content\">\n",
      "      <p class=\"heading1\">Request Error</p>\n",
      "      <p xmlns=\"\">The server encountered an error processing the request. Please see the <a rel=\"help-page\" href=\"http://eds-api.ebscohost.com/EdsApi/rest/help\">service help page</a> for constructing valid requests to the service.</p>\n",
      "    </div>\n",
      "  </body>\n",
      "</html>\n"
     ]
    }
   ],
   "source": [
    "login_url = 'https://eds-api.ebscohost.com/authservice/rest/UIDAuth'\n",
    "\n",
    "admin_login_data = {\n",
    "    'UserId': input('what is your Ebsco username? '),\n",
    "    'Password': getpass.getpass('what is your Ebsco password? '),\n",
    "    'Profile': 'edsapi',\n",
    "    'InterfaceId': 'edsapi_console',\n",
    "}\n",
    "\n",
    "r = s.post(\n",
    "        session_url,\n",
    "        headers={\n",
    "            'Content-Type': 'application/json',\n",
    "            'Accept': 'application/json',\n",
    "            'User-Agent': 'Mozilla/5.0 (X11; Linux x86_64) AppleWebKit/537.36 (KHTML, like Gecko) Chrome/69.0.3497.100 Safari/537.36',\n",
    "#             'x-authenticationToken': auth_json['AuthToken'],\n",
    "        },\n",
    "        data = admin_login_data,\n",
    "    )\n",
    "print(r.request.headers)\n",
    "print(r.request.body)\n",
    "print(r.text)"
   ]
  },
  {
   "cell_type": "code",
   "execution_count": 6,
   "metadata": {},
   "outputs": [],
   "source": [
    "# login_url = 'https://eds-api.ebscohost.com/authservice/rest/UIDAuth'\n",
    "\n",
    "# with open('credentials.txt', 'r') as f:\n",
    "#     parsed_json = json.loads(f.read())\n",
    "#     username, password = parsed_json.get('EBSCO').get('user'), parsed_json.get('EBSCO').get('pass')\n",
    "#     if username and password:\n",
    "#         admin_login_data = {\n",
    "#             'UserId': username,\n",
    "#             'Password': password,\n",
    "#             'Profile': None,\n",
    "#             'Org': None,\n",
    "#             'InterfaceId': 'wsapi',\n",
    "#             'Options': 'autocomplete',        \n",
    "#         }\n",
    "#     else:\n",
    "#         admin_login_data = {\n",
    "#             'UserId': input('what is your Ebsco username? '),\n",
    "#             'Password': getpass.getpass('what is your Ebsco password? '),\n",
    "#             'Profile': 'eds',\n",
    "#             'InterfaceId': 'wsapi',\n",
    "#         } \n",
    "\n",
    "# admin_login_data.update({\n",
    "#     'Org': 'edsapi',\n",
    "#     'Profile': 'edsapi',\n",
    "#     'InterfaceId': 'EDSAPI',\n",
    "#     'Option': 'autocomplete',\n",
    "#     })"
   ]
  },
  {
   "cell_type": "code",
   "execution_count": 59,
   "metadata": {},
   "outputs": [
    {
     "name": "stdout",
     "output_type": "stream",
     "text": [
      "{'AuthToken': 'ADGzJQmJTihpotGnuWPwzHeDjtMOTFvIneV7IkN1c3RvbWVySWQiOiJzODQ5MTk3NCIsIkdyb3VwSWQiOiJtYWluIn0', 'AuthTimeout': '1800'}\n"
     ]
    }
   ],
   "source": [
    "# authenticate\n",
    "login_url = 'https://eds-api.ebscohost.com/authservice/rest/ipauth'\n",
    "\n",
    "r = s.post(\n",
    "        login_url,\n",
    "        headers={\n",
    "            'Accept': 'application/json',\n",
    "    }\n",
    ")\n",
    "auth_json = json.loads(r.content)\n",
    "print(auth_json)"
   ]
  },
  {
   "cell_type": "code",
   "execution_count": 68,
   "metadata": {},
   "outputs": [
    {
     "name": "stdout",
     "output_type": "stream",
     "text": [
      "ï»¿<?xml version=\"1.0\" encoding=\"utf-8\"?>\r\n",
      "<!DOCTYPE html PUBLIC \"-//W3C//DTD XHTML 1.0 Transitional//EN\" \"http://www.w3.org/TR/xhtml1/DTD/xhtml1-transitional.dtd\">\r\n",
      "<html xmlns=\"http://www.w3.org/1999/xhtml\">\r\n",
      "  <head>\r\n",
      "    <title>Request Error</title>\r\n",
      "    <style>BODY { color: #000000; background-color: white; font-family: Verdana; margin-left: 0px; margin-top: 0px; } #content { margin-left: 30px; font-size: .70em; padding-bottom: 2em; } A:link { color: #336699; font-weight: bold; text-decoration: underline; } A:visited { color: #6699cc; font-weight: bold; text-decoration: underline; } A:active { color: #336699; font-weight: bold; text-decoration: underline; } .heading1 { background-color: #003366; border-bottom: #336699 6px solid; color: #ffffff; font-family: Tahoma; font-size: 26px; font-weight: normal;margin: 0em 0em 10px -20px; padding-bottom: 8px; padding-left: 30px;padding-top: 16px;} pre { font-size:small; background-color: #e5e5cc; padding: 5px; font-family: Courier New; margin-top: 0px; border: 1px #f0f0e0 solid; white-space: pre-wrap; white-space: -pre-wrap; word-wrap: break-word; } table { border-collapse: collapse; border-spacing: 0px; font-family: Verdana;} table th { border-right: 2px white solid; border-bottom: 2px white solid; font-weight: bold; background-color: #cecf9c;} table td { border-right: 2px white solid; border-bottom: 2px white solid; background-color: #e5e5cc;}</style>\r\n",
      "  </head>\r\n",
      "  <body>\r\n",
      "    <div id=\"content\">\r\n",
      "      <p class=\"heading1\">Request Error</p>\r\n",
      "      <p xmlns=\"\">The server encountered an error processing the request. Please see the <a rel=\"help-page\" href=\"http://eds-api.ebscohost.com/EdsApi/rest/help\">service help page</a> for constructing valid requests to the service.</p>\r\n",
      "    </div>\r\n",
      "  </body>\r\n",
      "</html>\n"
     ]
    }
   ],
   "source": [
    "# open session\n",
    "session_url = 'https://eds-api.ebscohost.com/edsapi/rest/createsession'\n",
    "\n",
    "payload = {\n",
    "    \"Profile\": \"edsapi\",\n",
    "    \"Guest\": \"y\",\n",
    "    \"Org\": \"edsapi\",\n",
    "    'x-authenticationToken': auth_json['AuthToken'],\n",
    "}\n",
    "\n",
    "r = s.post(\n",
    "        session_url,\n",
    "        headers={\n",
    "#             'Content-Type': 'application/json',\n",
    "#             'Accept': 'application/json',\n",
    "            'x-authenticationToken': auth_json['AuthToken'],\n",
    "        },\n",
    "        data = payload,\n",
    "    )\n",
    "\n",
    "print(r.text)\n"
   ]
  },
  {
   "cell_type": "code",
   "execution_count": null,
   "metadata": {},
   "outputs": [],
   "source": []
  },
  {
   "cell_type": "code",
   "execution_count": null,
   "metadata": {},
   "outputs": [],
   "source": []
  },
  {
   "cell_type": "code",
   "execution_count": null,
   "metadata": {},
   "outputs": [],
   "source": []
  }
 ],
 "metadata": {
  "kernelspec": {
   "display_name": "Python 3",
   "language": "python",
   "name": "python3"
  },
  "language_info": {
   "codemirror_mode": {
    "name": "ipython",
    "version": 3
   },
   "file_extension": ".py",
   "mimetype": "text/x-python",
   "name": "python",
   "nbconvert_exporter": "python",
   "pygments_lexer": "ipython3",
   "version": "3.6.6"
  }
 },
 "nbformat": 4,
 "nbformat_minor": 2
}
