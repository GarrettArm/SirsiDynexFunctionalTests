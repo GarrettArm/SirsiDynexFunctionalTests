{
 "cells": [
  {
   "cell_type": "code",
   "execution_count": null,
   "metadata": {},
   "outputs": [],
   "source": [
    "import requests\n",
    "import json\n",
    "import getpass"
   ]
  },
  {
   "cell_type": "code",
   "execution_count": null,
   "metadata": {},
   "outputs": [],
   "source": [
    "# authenticate\n",
    "\n",
    "login_url = 'https://eds-api.ebscohost.com/authservice/rest/uidauth'\n",
    "s = requests.session()\n",
    "\n",
    "with open('credentials.txt', 'r') as f:\n",
    "    parsed_json = json.loads(f.read())\n",
    "    username, password = parsed_json.get('EBSCO').get('user'), parsed_json.get('EBSCO').get('pass')\n",
    "    if username and password:\n",
    "        admin_login_data = {\n",
    "            'UserId': username,\n",
    "            'Password': password,\n",
    "            'Profile': None,\n",
    "            'Org': None,\n",
    "            'InterfaceId': 'wsapi',\n",
    "            'Options': 'autocomplete',        \n",
    "        }\n",
    "    else:\n",
    "        admin_login_data = {\n",
    "            'UserId': input('what is your Ebsco username? '),\n",
    "            'Password': getpass.getpass('what is your Ebsco password? '),\n",
    "            'InterfaceId': 'WSapi',\n",
    "        } \n"
   ]
  },
  {
   "cell_type": "code",
   "execution_count": null,
   "metadata": {},
   "outputs": [],
   "source": [
    "r = s.post(login_url, params=admin_login_data, headers={'Content-Type': 'application/json',})\n",
    "print(r.content)\n",
    "login_json = json.loads(r.content)\n",
    "print(login_json)"
   ]
  },
  {
   "cell_type": "code",
   "execution_count": null,
   "metadata": {},
   "outputs": [],
   "source": [
    "r.content"
   ]
  },
  {
   "cell_type": "code",
   "execution_count": null,
   "metadata": {},
   "outputs": [],
   "source": []
  }
 ],
 "metadata": {
  "kernelspec": {
   "display_name": "Python 3",
   "language": "python",
   "name": "python3"
  },
  "language_info": {
   "codemirror_mode": {
    "name": "ipython",
    "version": 3
   },
   "file_extension": ".py",
   "mimetype": "text/x-python",
   "name": "python",
   "nbconvert_exporter": "python",
   "pygments_lexer": "ipython3",
   "version": "3.6.6"
  }
 },
 "nbformat": 4,
 "nbformat_minor": 2
}
