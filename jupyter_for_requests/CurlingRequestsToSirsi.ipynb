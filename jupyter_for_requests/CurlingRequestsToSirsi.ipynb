{
 "cells": [
  {
   "cell_type": "code",
   "execution_count": 1,
   "metadata": {},
   "outputs": [],
   "source": [
    "import requests"
   ]
  },
  {
   "cell_type": "code",
   "execution_count": null,
   "metadata": {},
   "outputs": [],
   "source": [
    "# request_headers = {\n",
    "#     \"Accept\": \"text/html,application/xhtml+xml,application/xml;q=0.9,image/webp,image/apng,*/*;q=0.8\",\n",
    "#     \"Accept-Encoding\": \"gzip, deflate, br\",\n",
    "#     \"Accept-Language\": \"en-US,en;q=0.9\",\n",
    "#     \"Cache-Control\": \"no-cache\",\n",
    "#     \"Connection\": \"keep-alive\",\n",
    "#     \"Cookie\": \"JSESSIONID=2F6E7BF66D9BAE0846E5313DBFDEA42B.tomcat-13409\",\n",
    "#     \"Host\": \"lsu.ent.sirsi.net\",\n",
    "#     \"Pragma\": \"no-cache\",\n",
    "#     \"Upgrade-Insecure-Requests\": \"1\",\n",
    "#     \"User-Agent\": \"Mozilla/5.0 (X11; Linux x86_64) AppleWebKit/537.36 (KHTML, like Gecko) Chrome/67.0.3396.99 Safari/537.36\",\n",
    "#     }"
   ]
  },
  {
   "cell_type": "code",
   "execution_count": 2,
   "metadata": {},
   "outputs": [],
   "source": [
    "data = {\n",
    "    'qu': 'hello',\n",
    "    'qf': 'FORMAT\tFormat\tBOOK\tBooks',\n",
    "    'rt': 'false|||AUTHOR|||Author',\n",
    "}"
   ]
  },
  {
   "cell_type": "code",
   "execution_count": 3,
   "metadata": {},
   "outputs": [
    {
     "name": "stdout",
     "output_type": "stream",
     "text": [
      "200\n"
     ]
    }
   ],
   "source": [
    "response = requests.post(\"https://lsu.ent.sirsi.net/client/en_US/lsu/search/results\",\n",
    "#                        headers=request_headers,\n",
    "                         data=data\n",
    "                         )\n",
    "print(response.status_code)"
   ]
  },
  {
   "cell_type": "markdown",
   "metadata": {},
   "source": [
    "Lessons:\n",
    "\n",
    "- post is required here for sending headers & data.\n",
    "- The tab version seems necessary.\n",
    "- Headers are not necessary; sending in data is sufficient\n",
    "- qu is the code for the search term\n",
    "- qf is the code for the search hard limiters\n",
    "- rt is the code for the search soft limiters\n"
   ]
  },
  {
   "cell_type": "code",
   "execution_count": 4,
   "metadata": {},
   "outputs": [],
   "source": [
    "with open('trash.html', 'w') as f:\n",
    "    f.write(response.content.decode('utf-8'))"
   ]
  },
  {
   "cell_type": "code",
   "execution_count": null,
   "metadata": {},
   "outputs": [],
   "source": [
    "data = {\n",
    "    'ln': 'en_US',\n",
    "#     'rt': 'false|||BOOK|||Books',\n",
    "    'q': 'The music of Arnold Schoenberg',\n",
    "#     'lm': 'FORMAT',\n",
    "    'qf': 'FORMAT\\tFormat\\tMUSICSNDREC\\tMusic+Sound+Recording',\n",
    "#     'id': 'q',\n",
    "}"
   ]
  },
  {
   "cell_type": "code",
   "execution_count": null,
   "metadata": {},
   "outputs": [],
   "source": [
    "response = requests.post(\"https://lsu.ent.sirsi.net/client/embedded.search/lsu\",\n",
    "             headers=request_headers,\n",
    "             data=data\n",
    "            )\n",
    "print(response.status_code)"
   ]
  },
  {
   "cell_type": "markdown",
   "metadata": {},
   "source": [
    "Lessons:\n",
    "\n",
    " - This url is recommended at: http://www.mediatheque.mairie-champigny94.fr/client/help/admin-help_en_US/Content/admin-help/2-Getting%20started/Inserting%20the%20%20Search%20bo.htm#vse-getstart_1270969419_1269116\n",
    " \n",
    " - It seems fickle & I cant find reliable data to send in.\n",
    " "
   ]
  },
  {
   "cell_type": "code",
   "execution_count": null,
   "metadata": {},
   "outputs": [],
   "source": []
  },
  {
   "cell_type": "code",
   "execution_count": null,
   "metadata": {},
   "outputs": [],
   "source": [
    "gives_lots_of_results = requests.get('https://lsu.ent.sirsi.net/client/en_US/lsu/search/results?qf=FORMAT\\tFormat\\tMUSICSNDREC\\tMusic+Sound+Recording&lm=FORMAT&rt=false|||MUSIC|||Music')"
   ]
  },
  {
   "cell_type": "code",
   "execution_count": null,
   "metadata": {},
   "outputs": [],
   "source": [
    "gives_lots_of_results.content"
   ]
  },
  {
   "cell_type": "code",
   "execution_count": null,
   "metadata": {},
   "outputs": [],
   "source": []
  },
  {
   "cell_type": "code",
   "execution_count": null,
   "metadata": {},
   "outputs": [],
   "source": []
  },
  {
   "cell_type": "code",
   "execution_count": null,
   "metadata": {},
   "outputs": [],
   "source": [
    "gives_results = requests.get('https://lsu.ent.sirsi.net/client/en_US/lsu/search/results?qu=The+music+of+Arnold+Schoenberg&rt=&qf=&qf=&qf=FORMAT%09Format%09BOOK%09Books&qf=&qf=&av=&advancedSearchButton=Search')"
   ]
  },
  {
   "cell_type": "code",
   "execution_count": null,
   "metadata": {},
   "outputs": [],
   "source": [
    "gives_results.content"
   ]
  },
  {
   "cell_type": "code",
   "execution_count": null,
   "metadata": {},
   "outputs": [],
   "source": []
  }
 ],
 "metadata": {
  "kernelspec": {
   "display_name": "Python 3",
   "language": "python",
   "name": "python3"
  },
  "language_info": {
   "codemirror_mode": {
    "name": "ipython",
    "version": 3
   },
   "file_extension": ".py",
   "mimetype": "text/x-python",
   "name": "python",
   "nbconvert_exporter": "python",
   "pygments_lexer": "ipython3",
   "version": "3.6.6"
  }
 },
 "nbformat": 4,
 "nbformat_minor": 2
}
