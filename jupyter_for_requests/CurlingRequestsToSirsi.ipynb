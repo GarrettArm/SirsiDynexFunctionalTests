{
 "cells": [
  {
   "cell_type": "markdown",
   "metadata": {},
   "source": [
    "### Sending in redirect to our search engine"
   ]
  },
  {
   "cell_type": "code",
   "execution_count": null,
   "metadata": {},
   "outputs": [],
   "source": [
    "import requests\n",
    "import pprint\n",
    "\n",
    "pp = pprint.PrettyPrinter(indent=4)"
   ]
  },
  {
   "cell_type": "code",
   "execution_count": null,
   "metadata": {},
   "outputs": [],
   "source": [
    "# request_headers = {\n",
    "#     \"Accept\": \"text/html,application/xhtml+xml,application/xml;q=0.9,image/webp,image/apng,*/*;q=0.8\",\n",
    "#     \"Accept-Encoding\": \"gzip, deflate, br\",\n",
    "#     \"Accept-Language\": \"en-US,en;q=0.9\",\n",
    "#     \"Cache-Control\": \"no-cache\",\n",
    "#     \"Connection\": \"keep-alive\",\n",
    "#     \"Cookie\": \"JSESSIONID=2F6E7BF66D9BAE0846E5313DBFDEA42B.tomcat-13409\",\n",
    "#     \"Host\": \"lsu.ent.sirsi.net\",\n",
    "#     \"Pragma\": \"no-cache\",\n",
    "#     \"Upgrade-Insecure-Requests\": \"1\",\n",
    "#     \"User-Agent\": \"Mozilla/5.0 (X11; Linux x86_64) AppleWebKit/537.36 (KHTML, like Gecko) Chrome/67.0.3396.99 Safari/537.36\",\n",
    "#     }"
   ]
  },
  {
   "cell_type": "code",
   "execution_count": null,
   "metadata": {},
   "outputs": [],
   "source": [
    "data = {\n",
    "    'qu': 'asdf',\n",
    "#     'qf': 'FORMAT\tFormat\tBOOK\tBooks',\n",
    "#     'rt': 'false|||AUTHOR|||Author',\n",
    "#     'qf': 'LIBRARY\tLibrary\t21:MIDL-MAIN\tMiddleton Library (Main Collection)'\n",
    "    'libraryDropDown': '21:MIDL-MAIN',\n",
    "    \n",
    "}"
   ]
  },
  {
   "cell_type": "code",
   "execution_count": null,
   "metadata": {},
   "outputs": [],
   "source": [
    "response = requests.post(\"https://lsu.ent.sirsi.net/client/en_US/lsu/search/results\",\n",
    "#                        headers=request_headers,\n",
    "                         data=data\n",
    "                         )\n",
    "print(response.status_code)"
   ]
  },
  {
   "cell_type": "markdown",
   "metadata": {},
   "source": [
    "Lessons:\n",
    "\n",
    "- post is required here for sending headers & data.\n",
    "- The tab version seems necessary.\n",
    "- Headers are not necessary; sending in data is sufficient\n",
    "- qu is the code for the search term\n",
    "- qf is the code for the search hard limiters\n",
    "- rt is the code for the search soft limiters\n"
   ]
  },
  {
   "cell_type": "code",
   "execution_count": null,
   "metadata": {},
   "outputs": [],
   "source": [
    "with open('trash.html', 'w') as f:\n",
    "    f.write(response.content.decode('utf-8'))"
   ]
  },
  {
   "cell_type": "code",
   "execution_count": null,
   "metadata": {},
   "outputs": [],
   "source": []
  },
  {
   "cell_type": "code",
   "execution_count": null,
   "metadata": {},
   "outputs": [],
   "source": []
  },
  {
   "cell_type": "code",
   "execution_count": null,
   "metadata": {},
   "outputs": [],
   "source": []
  },
  {
   "cell_type": "code",
   "execution_count": null,
   "metadata": {},
   "outputs": [],
   "source": []
  },
  {
   "cell_type": "code",
   "execution_count": null,
   "metadata": {},
   "outputs": [],
   "source": []
  },
  {
   "cell_type": "code",
   "execution_count": null,
   "metadata": {},
   "outputs": [],
   "source": [
    "data = {\n",
    "    'qu': 'asdf',\n",
    "#     'qf': 'FORMAT\tFormat\tBOOK\tBooks',\n",
    "#     'rt': 'false|||AUTHOR|||Author',\n",
    "    'qf': 'LIBRARY\tLibrary\t21:MIDL-MAIN\tMiddleton Library (Main Collection)'\n",
    "    \n",
    "}\n",
    "\n",
    "response = requests.post(\"https://lsu.ent.sirsi.net/client/en_US/lsu/search/results?\",\n",
    "#                        headers=request_headers,\n",
    "                         data=data\n",
    "                         )\n",
    "print(response.status_code)"
   ]
  },
  {
   "cell_type": "code",
   "execution_count": null,
   "metadata": {},
   "outputs": [],
   "source": []
  },
  {
   "cell_type": "code",
   "execution_count": null,
   "metadata": {},
   "outputs": [],
   "source": []
  },
  {
   "cell_type": "code",
   "execution_count": null,
   "metadata": {},
   "outputs": [],
   "source": []
  },
  {
   "cell_type": "code",
   "execution_count": null,
   "metadata": {},
   "outputs": [],
   "source": [
    "def de_urlize(text):\n",
    "    text = text.replace('%09', '\t').replace('%3A', ':').replace('%28', '(').replace('%29', ')').replace('+', ' ').replace('\\t', '\t')\n",
    "    return text"
   ]
  },
  {
   "cell_type": "code",
   "execution_count": null,
   "metadata": {},
   "outputs": [],
   "source": [
    "a = de_urlize('https://lsu.ent.sirsi.net/client/en_US/lsu/search/results?qu=asdf&qf=LIBRARY%09Library%0921%3AMIDL-MAIN%09Middleton+Library+%28Main+Collection%29')\n",
    "b = 'https://lsu.ent.sirsi.net/client/en_US/lsu/search/results?qu=asdf&qf=LIBRARY\tLibrary\t21:MIDL-MAIN\tMiddleton Library (Main Collection)'"
   ]
  },
  {
   "cell_type": "code",
   "execution_count": null,
   "metadata": {},
   "outputs": [],
   "source": [
    "assert a == b"
   ]
  },
  {
   "cell_type": "code",
   "execution_count": null,
   "metadata": {},
   "outputs": [],
   "source": [
    "de_urlize('https://lsu.ent.sirsi.net/client/en_US/lsu/search/results?qu=asdf&rt=&qf=LIBRARY%09Library%0921%3AVETMED%09Veterinary+Medicine+Library&qf=&qf=&qf=&qf=&av=&advancedSearchButton=Search')\n"
   ]
  },
  {
   "cell_type": "code",
   "execution_count": null,
   "metadata": {},
   "outputs": [],
   "source": []
  },
  {
   "cell_type": "markdown",
   "metadata": {},
   "source": [
    "### Sending in a broken redirect (Doesn't work.)"
   ]
  },
  {
   "cell_type": "code",
   "execution_count": null,
   "metadata": {},
   "outputs": [],
   "source": [
    "data = {\n",
    "    'ln': 'en_US',\n",
    "#     'rt': 'false|||BOOK|||Books',\n",
    "    'q': 'The music of Arnold Schoenberg',\n",
    "#     'lm': 'FORMAT',\n",
    "    'qf': 'FORMAT\\tFormat\\tMUSICSNDREC\\tMusic+Sound+Recording',\n",
    "#     'id': 'q',\n",
    "}"
   ]
  },
  {
   "cell_type": "code",
   "execution_count": null,
   "metadata": {},
   "outputs": [],
   "source": [
    "response = requests.post(\"https://lsu.ent.sirsi.net/client/embedded.search/lsu\",\n",
    "             headers=request_headers,\n",
    "             data=data\n",
    "            )\n",
    "print(response.status_code)"
   ]
  },
  {
   "cell_type": "markdown",
   "metadata": {},
   "source": [
    "Lessons:\n",
    "\n",
    " - This url is recommended at: http://www.mediatheque.mairie-champigny94.fr/client/help/admin-help_en_US/Content/admin-help/2-Getting%20started/Inserting%20the%20%20Search%20bo.htm#vse-getstart_1270969419_1269116\n",
    " \n",
    " - It seems fickle & I cant find reliable data to send in.\n",
    " "
   ]
  },
  {
   "cell_type": "code",
   "execution_count": null,
   "metadata": {},
   "outputs": [],
   "source": []
  },
  {
   "cell_type": "code",
   "execution_count": null,
   "metadata": {},
   "outputs": [],
   "source": []
  },
  {
   "cell_type": "markdown",
   "metadata": {},
   "source": [
    "### Hitting Symphony web API & getting info"
   ]
  },
  {
   "cell_type": "code",
   "execution_count": null,
   "metadata": {},
   "outputs": [],
   "source": [
    "def stringify_params(params):\n",
    "    params_as_str = ''\n",
    "    for count, (k, v) in enumerate(params.items()):\n",
    "        str_a = f'{k}={v}'\n",
    "        if count == 0:\n",
    "            params_as_str += str_a\n",
    "        else:\n",
    "            params_as_str += f'&{str_a}'\n",
    "    return params_as_str"
   ]
  },
  {
   "cell_type": "code",
   "execution_count": null,
   "metadata": {},
   "outputs": [],
   "source": [
    "webservices_base_url = 'https://lalu.sirsi.net/lalu_ilsws'\n",
    "service = 'standard'\n",
    "function = 'lookupTitleInfo'\n",
    "params = {\n",
    "    'clientID': 'DS_CLIENT',\n",
    "    'json': 'true',\n",
    "    'prettyprint': 'true',\n",
    "    'titleID': '2644971',\n",
    "    'includeAvailabilityInfo': 'true',\n",
    "    'includeItemInfo': 'true',\n",
    "    'includeOPACInfo': 'true',\n",
    "    'includeCatalogingInfo': 'true',\n",
    "    \n",
    "}"
   ]
  },
  {
   "cell_type": "code",
   "execution_count": null,
   "metadata": {},
   "outputs": [],
   "source": [
    "# Example Book\n",
    "params['titleID'] = '1386605'"
   ]
  },
  {
   "cell_type": "code",
   "execution_count": null,
   "metadata": {},
   "outputs": [],
   "source": [
    "# Example Periodical\n",
    "params['titleID'] = '316188'"
   ]
  },
  {
   "cell_type": "code",
   "execution_count": null,
   "metadata": {},
   "outputs": [],
   "source": []
  },
  {
   "cell_type": "code",
   "execution_count": null,
   "metadata": {},
   "outputs": [],
   "source": [
    "composed_url = f'{webservices_base_url}/rest/{service}/{function}?{stringify_params(params)}'\n",
    "print(composed_url)"
   ]
  },
  {
   "cell_type": "code",
   "execution_count": null,
   "metadata": {},
   "outputs": [],
   "source": [
    "response = requests.get(composed_url)"
   ]
  },
  {
   "cell_type": "code",
   "execution_count": null,
   "metadata": {},
   "outputs": [],
   "source": [
    "print(response.text)"
   ]
  },
  {
   "cell_type": "code",
   "execution_count": null,
   "metadata": {},
   "outputs": [],
   "source": []
  },
  {
   "cell_type": "code",
   "execution_count": null,
   "metadata": {},
   "outputs": [],
   "source": []
  },
  {
   "cell_type": "code",
   "execution_count": null,
   "metadata": {},
   "outputs": [],
   "source": []
  },
  {
   "cell_type": "code",
   "execution_count": null,
   "metadata": {},
   "outputs": [],
   "source": []
  },
  {
   "cell_type": "markdown",
   "metadata": {},
   "source": [
    "### web api Search catalog"
   ]
  },
  {
   "cell_type": "code",
   "execution_count": null,
   "metadata": {},
   "outputs": [],
   "source": [
    "function = 'searchCatalog'\n",
    "params = {\n",
    "    'clientID': 'DS_CLIENT',\n",
    "    'json': 'true',\n",
    "    'prettyprint': 'true',\n",
    "    'term1': 'granite',\n",
    "    \n",
    "}"
   ]
  },
  {
   "cell_type": "code",
   "execution_count": null,
   "metadata": {},
   "outputs": [],
   "source": []
  }
 ],
 "metadata": {
  "kernelspec": {
   "display_name": "Python 3",
   "language": "python",
   "name": "python3"
  },
  "language_info": {
   "codemirror_mode": {
    "name": "ipython",
    "version": 3
   },
   "file_extension": ".py",
   "mimetype": "text/x-python",
   "name": "python",
   "nbconvert_exporter": "python",
   "pygments_lexer": "ipython3",
   "version": "3.6.6"
  }
 },
 "nbformat": 4,
 "nbformat_minor": 2
}
