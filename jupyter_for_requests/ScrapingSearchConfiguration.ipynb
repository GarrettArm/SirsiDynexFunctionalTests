{
 "cells": [
  {
   "cell_type": "code",
   "execution_count": null,
   "metadata": {},
   "outputs": [],
   "source": [
    "import requests\n",
    "import bs4 as soup"
   ]
  },
  {
   "cell_type": "code",
   "execution_count": null,
   "metadata": {},
   "outputs": [],
   "source": [
    "request_headers = {\n",
    "    \"Accept\": \"text/html,application/xhtml+xml,application/xml;q=0.9,image/webp,image/apng,*/*;q=0.8\",\n",
    "    \"Accept-Encoding\": \"gzip, deflate, br\",\n",
    "    \"Accept-Language\": \"en-US,en;q=0.9\",\n",
    "    \"Cache-Control\": \"no-cache\",\n",
    "    \"Connection\": \"keep-alive\",\n",
    "    \"Cookie\": \"JSESSIONID=2F6E7BF66D9BAE0846E5313DBFDEA42B.tomcat-13409\",\n",
    "    \"Host\": \"lsu.ent.sirsi.net\",\n",
    "    \"Pragma\": \"no-cache\",\n",
    "    \"Upgrade-Insecure-Requests\": \"1\",\n",
    "    \"User-Agent\": \"Mozilla/5.0 (X11; Linux x86_64) AppleWebKit/537.36 (KHTML, like Gecko) Chrome/67.0.3396.99 Safari/537.36\",\n",
    "    }"
   ]
  },
  {
   "cell_type": "code",
   "execution_count": null,
   "metadata": {},
   "outputs": [],
   "source": []
  },
  {
   "cell_type": "code",
   "execution_count": null,
   "metadata": {},
   "outputs": [],
   "source": [
    "url = 'https://lsu.ent.sirsi.net/client/en_US/login.loginform'\n",
    "data = {'j_username': '',\n",
    "        'j_password': '',\n",
    "        't:formdata': ''}"
   ]
  },
  {
   "cell_type": "code",
   "execution_count": null,
   "metadata": {},
   "outputs": [],
   "source": [
    "s = requests.Session()\n",
    "r = s.post(url, data=data)"
   ]
  },
  {
   "cell_type": "code",
   "execution_count": null,
   "metadata": {},
   "outputs": [],
   "source": []
  },
  {
   "cell_type": "code",
   "execution_count": null,
   "metadata": {},
   "outputs": [],
   "source": [
    "def get_max_search_fields_page():\n",
    "    search_fields_page = s.get('https://lsu.ent.sirsi.net/client/en_US/admin/search/managefields')\n",
    "    search_soup = soup.BeautifulSoup(search_fields_page.content, 'lxml')\n",
    "    pages = search_soup.select('.t-data-grid-pager a')\n",
    "    max_page = max(int(i.text) for i in pages)\n",
    "    return max_page\n",
    "\n",
    "def get_search_fields_items(page, search_fields_dict=None):\n",
    "    search_fields_page = s.get('https://lsu.ent.sirsi.net/client/en_US/admin/search/managefields.grid.pager/{}'.format(page))\n",
    "    search_soup = soup.BeautifulSoup(search_fields_page.content, 'lxml')\n",
    "    search_field_rows = search_soup.tbody\n",
    "    if not search_fields_dict:\n",
    "        search_fields_dict = dict()\n",
    "    for row in search_soup.tbody:\n",
    "        search_field_code, search_field_name, search_field_hierarchy, links = row.contents\n",
    "        if search_field_code.string in search_fields_dict:\n",
    "            print('duplicate search field code found {}'.format(search_field_code))\n",
    "            break\n",
    "        search_fields_dict[search_field_code.string] = {'code': search_field_code.string, \n",
    "                                           'name': search_field_name.string,\n",
    "                                           'hierarchy': search_field_hierarchy.string.strip(),\n",
    "                                           }\n",
    "    return search_fields_dict\n",
    "        \n",
    "def get_search_fields_editfield_page(search_field_code):\n",
    "    search_field_code = search_field_code.replace('/', '$002f').replace(' ', '$0020')\n",
    "    return s.get('https://lsu.ent.sirsi.net/client/en_US/admin/search/managefields.edit/{}'.format(search_field_code))\n",
    "\n",
    "def get_search_fields_marc_page(search_field_code):\n",
    "    search_field_code = search_field_code.replace('/', '$002f').replace(' ', '$0020')\n",
    "    return s.get('https://lsu.ent.sirsi.net/client/en_US/admin/search/managefields.confmarcmap/{}'.format(search_field_code))"
   ]
  },
  {
   "cell_type": "code",
   "execution_count": null,
   "metadata": {},
   "outputs": [],
   "source": [
    "def build_basic_search_dict():\n",
    "    search_fields_dict = None\n",
    "    max_page = get_max_search_fields_page()\n",
    "    for page_num in range(1, max_page+1):\n",
    "        search_fields_dict = get_search_fields_items(page_num, search_fields_dict)\n",
    "    return search_fields_dict"
   ]
  },
  {
   "cell_type": "code",
   "execution_count": null,
   "metadata": {},
   "outputs": [],
   "source": [
    "s.cookies"
   ]
  },
  {
   "cell_type": "code",
   "execution_count": null,
   "metadata": {},
   "outputs": [],
   "source": [
    "search_fields_dict = build_basic_search_dict()"
   ]
  },
  {
   "cell_type": "code",
   "execution_count": null,
   "metadata": {},
   "outputs": [],
   "source": []
  },
  {
   "cell_type": "code",
   "execution_count": null,
   "metadata": {},
   "outputs": [],
   "source": []
  },
  {
   "cell_type": "code",
   "execution_count": null,
   "metadata": {},
   "outputs": [],
   "source": []
  },
  {
   "cell_type": "code",
   "execution_count": null,
   "metadata": {},
   "outputs": [],
   "source": []
  },
  {
   "cell_type": "code",
   "execution_count": null,
   "metadata": {},
   "outputs": [],
   "source": [
    "search_field_edit_example = get_edit_search_fields_page('BIBLIOGRAPHY504')"
   ]
  },
  {
   "cell_type": "code",
   "execution_count": null,
   "metadata": {},
   "outputs": [],
   "source": [
    "edit_soup = soup.BeautifulSoup(search_field_edit_example.content, 'lxml')"
   ]
  },
  {
   "cell_type": "code",
   "execution_count": null,
   "metadata": {},
   "outputs": [],
   "source": [
    "def parse_checkbox(css_id, my_soup):\n",
    "    try:\n",
    "        css_code = '#{}'.format(css_id)\n",
    "        my_soup.select(css_code)[0]['checked']\n",
    "        return True\n",
    "    except KeyError:\n",
    "        return False\n",
    "    except IndexError:\n",
    "        return \"Unknown\"\n",
    "\n",
    "def parse_dropdown(css_id, my_soup):\n",
    "    try:\n",
    "        css_code = '#{}'.format(css_id)\n",
    "        return my_soup.select(css_code)[0].select('[selected]')[0].string\n",
    "    except KeyError:\n",
    "        return \"None\"\n",
    "    except IndexError:\n",
    "        return \"None\"\n",
    "\n",
    "def add_search_field_editfield_dict(search_fields_dict):\n",
    "    for search_field in search_fields_dict:\n",
    "        editfield_page = get_search_fields_editfield_page(search_field)\n",
    "        editfield_soup = soup.BeautifulSoup(editfield_page.content, 'lxml')\n",
    "        if not search_fields_dict[search_field].get('EditField'):\n",
    "            search_fields_dict[search_field]['EditField'] = dict()\n",
    "        search_fields_dict[search_field]['EditField']['descripton'] = editfield_soup.select('#description')[0].string\n",
    "        search_fields_dict[search_field]['EditField']['hierarchy'] = parse_dropdown('hierarchy', editfield_soup)\n",
    "        search_fields_dict[search_field]['EditField']['fieldCodeType'] = parse_dropdown('fieldCodeType', editfield_soup)\n",
    "        search_fields_dict[search_field]['EditField']['indexed'] = parse_checkbox('indexed', editfield_soup)\n",
    "        search_fields_dict[search_field]['EditField']['normalizer'] = parse_dropdown('normalizer', editfield_soup)\n",
    "        search_fields_dict[search_field]['EditField']['dataType'] = parse_dropdown('dataType', editfield_soup)\n",
    "        search_fields_dict[search_field]['EditField']['sort'] = parse_dropdown('sort', editfield_soup)\n",
    "        search_fields_dict[search_field]['EditField']['repeatable'] = parse_checkbox('repeatable', editfield_soup)\n",
    "        search_fields_dict[search_field]['EditField']['splitonspace'] = parse_checkbox('splitonspace', editfield_soup)\n",
    "        search_fields_dict[search_field]['EditField']['facet'] = parse_checkbox('facet', editfield_soup)\n",
    "        search_fields_dict[search_field]['EditField']['exclusiveFacet'] = parse_checkbox('exclusiveFacet', editfield_soup)\n",
    "        search_fields_dict[search_field]['EditField']['displayFieldType'] = parse_dropdown('displayFieldType', editfield_soup)\n",
    "        search_fields_dict[search_field]['EditField']['hitlistAvail'] = parse_checkbox('hitlistAvail', editfield_soup)\n",
    "        search_fields_dict[search_field]['EditField']['detailAvail'] = parse_checkbox('detailAvail', editfield_soup)\n",
    "        search_fields_dict[search_field]['EditField']['detailTab'] = parse_dropdown('detailTab', editfield_soup)\n",
    "        search_fields_dict[search_field]['EditField']['specialProcessing'] = parse_dropdown('specialProcessing', editfield_soup)\n",
    "\n",
    "def add_search_field_configuremarcmap_dict(search_fields_dict):\n",
    "    for search_field in search_fields_dict:\n",
    "        configuremarcmap_page = get_search_fields_marc_page(search_field)\n",
    "        configuremarcmap_soup = soup.BeautifulSoup(configuremarcmap_page.content, 'lxml')\n",
    "        search_fields_dict[search_field]['ConfigureMarcMap'] = parse_dropdown('marcMap', configuremarcmap_soup)\n",
    "        "
   ]
  },
  {
   "cell_type": "code",
   "execution_count": null,
   "metadata": {},
   "outputs": [],
   "source": [
    "add_search_field_configuremarcmap_dict(search_fields_dict)"
   ]
  },
  {
   "cell_type": "code",
   "execution_count": null,
   "metadata": {},
   "outputs": [],
   "source": [
    "add_search_field_editfield_dict(search_fields_dict)"
   ]
  },
  {
   "cell_type": "code",
   "execution_count": null,
   "metadata": {},
   "outputs": [],
   "source": [
    "search_fields_dict"
   ]
  },
  {
   "cell_type": "code",
   "execution_count": null,
   "metadata": {},
   "outputs": [],
   "source": []
  },
  {
   "cell_type": "code",
   "execution_count": null,
   "metadata": {},
   "outputs": [],
   "source": []
  },
  {
   "cell_type": "code",
   "execution_count": null,
   "metadata": {},
   "outputs": [],
   "source": [
    "def get_max_marc_maps_page():\n",
    "    search_fields_page = s.get('https://lsu.ent.sirsi.net/client/en_US/admin/search/managemarcmaps')\n",
    "    search_soup = soup.BeautifulSoup(search_fields_page.content, 'lxml')\n",
    "    pages = search_soup.select('.t-data-grid-pager a')\n",
    "    max_page = max(int(i.text) for i in pages)\n",
    "    return max_page\n",
    "\n",
    "def get_marc_maps_editfield_page(search_field_code):\n",
    "    search_field_code = search_field_code.replace('/', '$002f').replace(' ', '$0020')\n",
    "    return s.get('https://lsu.ent.sirsi.net/client/en_US/admin/search/managemarcmaps.edit/{}'.format(search_field_code))\n",
    "\n",
    "def get_marc_maps_marc_page(search_field_code):\n",
    "    search_field_code = search_field_code.replace('/', '$002f').replace(' ', '$0020')\n",
    "    return s.get('https://lsu.ent.sirsi.net/client/en_US/admin/search/managemarcmaps.confmarc21tags/{}/false'.format(search_field_code))\n",
    "\n",
    "def parse_textbox(css_id, my_soup):\n",
    "    try:\n",
    "        css_code = '#{}'.format(css_id)\n",
    "        return my_soup.select(css_code)[0]['value']\n",
    "    except KeyError:\n",
    "        return \"None\"\n",
    "    except IndexError:\n",
    "        return \"None\""
   ]
  },
  {
   "cell_type": "code",
   "execution_count": null,
   "metadata": {},
   "outputs": [],
   "source": [
    "get_max_marc_maps_page()"
   ]
  },
  {
   "cell_type": "code",
   "execution_count": null,
   "metadata": {},
   "outputs": [],
   "source": []
  },
  {
   "cell_type": "code",
   "execution_count": null,
   "metadata": {},
   "outputs": [],
   "source": []
  },
  {
   "cell_type": "code",
   "execution_count": null,
   "metadata": {},
   "outputs": [],
   "source": [
    "response = get_marc_maps_editfield_page('TITLE ALL')\n",
    "response = get_marc_maps_marc_page('TITLE ALL')\n",
    "fields = soup.BeautifulSoup(response.content, 'lxml').select('#tagsTable tbody tr')\n",
    "item_marc_dict = dict()\n",
    "for i in fields:\n",
    "    field_num = i.td.string.strip()\n",
    "    for num, field in enumerate(field_num):\n",
    "        response = s.get('https://lsu.ent.sirsi.net/client/en_US/admin/search/managemarctags.edit/{}'.format(num))\n",
    "        field_soup = soup.BeautifulSoup(response.content, 'lxml')\n",
    "        field_marc_dict = {\n",
    "            'tag': parse_textbox('tag', field_soup),\n",
    "            'marcCond': parse_textbox('marcCond', field_soup),\n",
    "            'firstPrefix': parse_textbox('firstPrefix', field_soup),\n",
    "            'firstSuffix': parse_textbox('firstSuffix', field_soup),\n",
    "            'otherPrefix': parse_textbox('otherPrefix', field_soup),\n",
    "            'otherSuffix': parse_textbox('otherSuffix', field_soup),\n",
    "            'concatSubfields': parse_checkbox('concatSubfields', field_soup),\n",
    "            'concatTags': parse_checkbox('concatTags', field_soup),\n",
    "            'fixedField': parse_checkbox('fixedField', field_soup),\n",
    "            'offset': parse_textbox('offset', field_soup),\n",
    "            'length': parse_textbox('length', field_soup),\n",
    "        }\n",
    "        item_marc_dict[parse_textbox('tag', field_soup)] = field_marc_dict\n",
    "for k, v in item_marc_dict.items():\n",
    "    print(k, ':\\t', v)"
   ]
  },
  {
   "cell_type": "code",
   "execution_count": null,
   "metadata": {},
   "outputs": [],
   "source": [
    "len(fields)"
   ]
  },
  {
   "cell_type": "code",
   "execution_count": null,
   "metadata": {
    "scrolled": true
   },
   "outputs": [],
   "source": [
    "response.content"
   ]
  },
  {
   "cell_type": "code",
   "execution_count": null,
   "metadata": {},
   "outputs": [],
   "source": [
    "marc_soup = soup.BeautifulSoup(response.content, 'lxml')"
   ]
  },
  {
   "cell_type": "code",
   "execution_count": null,
   "metadata": {},
   "outputs": [],
   "source": [
    "tag_label = marc_soup.select('label[for=\"tag\"]')\n",
    "for i in tag_label:\n",
    "    print(i.find_next_sibling('input')['value'])"
   ]
  },
  {
   "cell_type": "code",
   "execution_count": null,
   "metadata": {},
   "outputs": [],
   "source": [
    "fields\n"
   ]
  },
  {
   "cell_type": "code",
   "execution_count": null,
   "metadata": {},
   "outputs": [],
   "source": []
  },
  {
   "cell_type": "code",
   "execution_count": null,
   "metadata": {},
   "outputs": [],
   "source": [
    "\n",
    "#     search_soup.tbody.findall('td')"
   ]
  }
 ],
 "metadata": {
  "kernelspec": {
   "display_name": "Python 3",
   "language": "python",
   "name": "python3"
  },
  "language_info": {
   "codemirror_mode": {
    "name": "ipython",
    "version": 3
   },
   "file_extension": ".py",
   "mimetype": "text/x-python",
   "name": "python",
   "nbconvert_exporter": "python",
   "pygments_lexer": "ipython3",
   "version": "3.6.6"
  }
 },
 "nbformat": 4,
 "nbformat_minor": 2
}
