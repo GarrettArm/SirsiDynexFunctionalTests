{
 "cells": [
  {
   "cell_type": "code",
   "execution_count": null,
   "metadata": {},
   "outputs": [],
   "source": [
    "import requests"
   ]
  },
  {
   "cell_type": "code",
   "execution_count": null,
   "metadata": {},
   "outputs": [],
   "source": [
    "baseWsURL = 'https://lalu.sirsi.net/lalu_ilsws/'\n",
    "clientID = 'DS_CLIENT'\n",
    "# catKey = '2805471' # Gay Butler Plater\n",
    "catKey = '316195' # Korea Journal\n",
    "\n",
    "options = {\"includeAvailabilityInfo\": \"true\",\n",
    "    \"includeCallNumberSummary\": \"true\",\n",
    "    \"includeItemInfo\": \"true\",\n",
    "    \"includeCatalogingInfo\": \"true\",\n",
    "    \"includeOrderInfo\": \"true\",\n",
    "    \"includeOPACInfo\": \"true\",\n",
    "    \"includeBoundTogether\": \"true\",\n",
    "    \"includeMarcHoldings\": \"true\",\n",
    "    \"marcEntryFilter\": \"ALL\",\n",
    "    \"json\": \"true\"}\n",
    "detail_template = \"\"\"{baseWsURL}rest/standard/lookupTitleInfo?clientID={clientID}&titleID={catKey}\"\"\"\n",
    "url_options = \"\".join('&{}={}'.format(k, v) for k, v in options.items())\n",
    "detail_template += url_options\n",
    "detail_url = detail_template.format(baseWsURL=baseWsURL,\n",
    "                 clientID=clientID,\n",
    "                 catKey=catKey)\n",
    "print(detail_url)"
   ]
  },
  {
   "cell_type": "code",
   "execution_count": null,
   "metadata": {},
   "outputs": [],
   "source": [
    "response = requests.post(detail_url)\n",
    "# response.text"
   ]
  },
  {
   "cell_type": "code",
   "execution_count": null,
   "metadata": {},
   "outputs": [],
   "source": []
  }
 ],
 "metadata": {
  "kernelspec": {
   "display_name": "Python 3",
   "language": "python",
   "name": "python3"
  },
  "language_info": {
   "codemirror_mode": {
    "name": "ipython",
    "version": 3
   },
   "file_extension": ".py",
   "mimetype": "text/x-python",
   "name": "python",
   "nbconvert_exporter": "python",
   "pygments_lexer": "ipython3",
   "version": "3.6.6"
  }
 },
 "nbformat": 4,
 "nbformat_minor": 2
}
